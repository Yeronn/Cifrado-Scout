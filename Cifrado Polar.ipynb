{
 "cells": [
  {
   "cell_type": "code",
   "execution_count": null,
   "metadata": {
    "collapsed": false
   },
   "outputs": [],
   "source": [
    "!chmod 777 empaquetar.sh run utils/*"
   ]
  },
  {
   "cell_type": "markdown",
   "metadata": {},
   "source": [
    "<div style=\"height:100px;\"></div>"
   ]
  },
  {
   "cell_type": "markdown",
   "metadata": {},
   "source": [
    "<img src=\"files/polar.jpeg\" />"
   ]
  },
  {
   "cell_type": "markdown",
   "metadata": {},
   "source": [
    "<div style=\"height:100px;\"></div>"
   ]
  },
  {
   "cell_type": "markdown",
   "metadata": {},
   "source": [
    "<h1> <center> CIFRADO CENIT POLAR </center>"
   ]
  },
  {
   "cell_type": "markdown",
   "metadata": {},
   "source": [
    "<table>\n",
    "<tr>\n",
    "<td width=\"30\">$C$</td><td width=\"30\">$E$</td><td width='30'>$N$</td><td width='30'>$I$</td><td width='30'>$T$</td>\n",
    "</tr>\n",
    "<td>$P$</td><td>$O$</td><td>$L$</td><td>$A$</td><td>$R$</td>\n",
    "</tr>\n",
    "</table>"
   ]
  },
  {
   "cell_type": "markdown",
   "metadata": {},
   "source": [
    "<h1> <center> CIFRADO MURCIELAGO </center>"
   ]
  },
  {
   "cell_type": "markdown",
   "metadata": {},
   "source": [
    "<table>\n",
    "<tr>\n",
    "<td width=\"30\">$M$</td><td width=\"30\">$U$</td><td width='30'>$R$</td><td width='30'>$C$</td><td width='30'>$I$</td><td width='30'>$E$</td><td width='30'>$L$</td><td width='30'>$A$</td><td width='30'>$G$</td><td width='30'>$O$</td>\n",
    "</tr>\n",
    "<td>$0$</td><td>$1$</td><td>$2$</td><td>$3$</td><td>$4$</td><td width='30'>$5$</td><td width='30'>$6$</td><td width='30'>$7$</td><td width='30'>$8$</td><td width='30'>$9$</td>\n",
    "</tr>\n",
    "</table>"
   ]
  },
  {
   "cell_type": "markdown",
   "metadata": {},
   "source": [
    "<h1> <center> CIFRADO AGUJERITO </center>"
   ]
  },
  {
   "cell_type": "markdown",
   "metadata": {},
   "source": [
    "<table>\n",
    "<tr>\n",
    "<td width=\"30\">$A$</td><td width=\"30\">$G$</td><td width='30'>$U$</td><td width='30'>$J$</td><td width='30'>$E$</td><td width='30'>$R$</td><td width='30'>$I$</td><td width='30'>$T$</td><td width='30'>$O$</td>\n",
    "</tr>\n",
    "<td>$1$</td><td>$2$</td><td>$3$</td><td>$4$</td><td width='30'>$5$</td><td width='30'>$6$</td><td width='30'>$7$</td><td width='30'>$8$</td><td width='30'>$9$</td>\n",
    "</tr>\n",
    "</table>"
   ]
  },
  {
   "cell_type": "markdown",
   "metadata": {},
   "source": [
    "<div style=\"height:100px;\"></div>"
   ]
  },
  {
   "cell_type": "markdown",
   "metadata": {},
   "source": [
    "<h1> <center> MÁQUINA DE TURING </center>"
   ]
  },
  {
   "cell_type": "markdown",
   "metadata": {},
   "source": [
    "<h2>DEFINICIÓN FORMAL"
   ]
  },
  {
   "cell_type": "markdown",
   "metadata": {},
   "source": [
    "$MT = (Q, q_{0}, F, \\Sigma, \\Gamma, B, \\delta)$"
   ]
  },
  {
   "cell_type": "markdown",
   "metadata": {},
   "source": [
    "$Q=$ {$q_{0},q_{1},q_{2},q_{3},q_{4}$}"
   ]
  },
  {
   "cell_type": "markdown",
   "metadata": {},
   "source": [
    "$q_{0} = q_{0}$"
   ]
  },
  {
   "cell_type": "markdown",
   "metadata": {},
   "source": [
    "$F=$ {$q_{2}$}"
   ]
  },
  {
   "cell_type": "markdown",
   "metadata": {},
   "source": [
    "$\\Sigma=$ {$A, B, C, D, E, F, G, H, I, J, K, L,M,N,O,P,Q,R,S,T,U,V,W,X,Y,Z,0,1,2,3,4,5,6,7,8,9,*,-,+$,''}"
   ]
  },
  {
   "cell_type": "markdown",
   "metadata": {},
   "source": [
    "$\\Gamma=$ {$A, B, C, D, E, F, G, H, I, J, K, L,M,N,O,P,Q,R,S,T,U,V,W,X,Y,Z,0,1,2,3,4,5,6,7,8,9,*,-,+,$''$,.$}"
   ]
  },
  {
   "cell_type": "markdown",
   "metadata": {},
   "source": [
    "$B=$ $.$"
   ]
  },
  {
   "cell_type": "markdown",
   "metadata": {},
   "source": [
    "$\\delta=${  \n",
    "(q0,+)=(q1,.,R),\n",
    "\n",
    "(q0,-)=(q3,.,R),\n",
    "\n",
    "(q0,*)=(q4,.,R),\n",
    "\n",
    "(q1,A)=(q1,I,R),\n",
    "\n",
    "(q1,B)=(q1,B,R),\n",
    "\n",
    "(q1,C)=(q1,P,R),\n",
    "\n",
    "(q1,D)=(q1,D,R),\n",
    "\n",
    "(q1,E)=(q1,O,R),\n",
    "\n",
    "(q1,F)=(q1,F,R),\n",
    "\n",
    "(q1,G)=(q1,G,R),\n",
    "\n",
    "(q1,H)=(q1,H,R),\n",
    "\n",
    "(q1,I)=(q1,A,R),\n",
    "\n",
    "(q1,J)=(q1,J,R),\n",
    "\n",
    "(q1,K)=(q1,K,R),\n",
    "\n",
    "(q1,L)=(q1,N,R),\n",
    "\n",
    "(q1,M)=(q1,M,R),\n",
    "\n",
    "(q1,N)=(q1,L,R),\n",
    "\n",
    "(q1,O)=(q1,E,R),\n",
    "\n",
    "(q1,P)=(q1,C,R),\n",
    "\n",
    "(q1,Q)=(q1,Q,R),\n",
    "\n",
    "(q1,R)=(q1,T,R),\n",
    "\n",
    "(q1,S)=(q1,S,R),\n",
    "\n",
    "(q1,T)=(q1,R,R),\n",
    "\n",
    "(q1,U)=(q1,U,R),\n",
    "\n",
    "(q1,V)=(q1,V,R),\n",
    "\n",
    "(q1,W)=(q1,W,R),\n",
    "\n",
    "(q1,X)=(q1,X,R),\n",
    "\n",
    "(q1,Y)=(q1,Y,R),\n",
    "\n",
    "(q1,Z)=(q1,Z,R),\n",
    "\n",
    "(q1, )=(q1,_,R),\n",
    "\n",
    "(q1,_)=(q1, ,R),\n",
    "\n",
    "(q1,0)=(q1,0,R),\n",
    "\n",
    "(q1,1)=(q1,1,R),\n",
    "\n",
    "(q1,2)=(q1,2,R),\n",
    "\n",
    "(q1,3)=(q1,3,R),\n",
    "\n",
    "(q1,4)=(q1,4,R),\n",
    "\n",
    "(q1,5)=(q1,5,R),\n",
    "\n",
    "(q1,6)=(q1,6,R),\n",
    "\n",
    "(q1,7)=(q1,7,R),\n",
    "\n",
    "(q1,8)=(q1,8,R),\n",
    "\n",
    "(q1,9)=(q1,9,R),\n",
    "\n",
    "(q1,.)=(q2,.,L),\n",
    "\n",
    "(q3,A)=(q3,1,R),\n",
    "\n",
    "(q3,B)=(q3,B,R),\n",
    "\n",
    "(q3,C)=(q3,C,R),\n",
    "\n",
    "(q3,D)=(q3,D,R),\n",
    "\n",
    "(q3,E)=(q3,5,R),\n",
    "\n",
    "(q3,F)=(q3,F,R),\n",
    "\n",
    "(q3,G)=(q3,2,R),\n",
    "\n",
    "(q3,H)=(q3,H,R),\n",
    "\n",
    "(q3,I)=(q3,7,R),\n",
    "\n",
    "(q3,J)=(q3,4,R),\n",
    "\n",
    "(q3,K)=(q3,K,R),\n",
    "\n",
    "(q3,L)=(q3,L,R),\n",
    "\n",
    "(q3,M)=(q3,M,R),\n",
    "\n",
    "(q3,N)=(q3,N,R),\n",
    "\n",
    "(q3,O)=(q3,9,R),\n",
    "\n",
    "(q3,P)=(q3,P,R),\n",
    "\n",
    "(q3,Q)=(q3,Q,R),\n",
    "\n",
    "(q3,R)=(q3,6,R),\n",
    "\n",
    "(q3,S)=(q3,S,R),\n",
    "\n",
    "(q3,T)=(q3,8,R),\n",
    "\n",
    "(q3,U)=(q3,3,R),\n",
    "\n",
    "(q3,V)=(q3,V,R),\n",
    "\n",
    "(q3,W)=(q3,W,R),\n",
    "\n",
    "(q3,X)=(q3,X,R),\n",
    "\n",
    "(q3,Y)=(q3,Y,R),\n",
    "\n",
    "(q3,Z)=(q3,Z,R),\n",
    "\n",
    "(q3, )=(q3,_,R),\n",
    "\n",
    "(q3,_)=(q1, ,R),\n",
    "\n",
    "(q3,0)=(q3,0,R),\n",
    "\n",
    "(q3,1)=(q3,A,R),\n",
    "\n",
    "(q3,2)=(q3,G,R),\n",
    "\n",
    "(q3,3)=(q3,U,R),\n",
    "\n",
    "(q3,4)=(q3,J,R),\n",
    "\n",
    "(q3,5)=(q3,E,R),\n",
    "\n",
    "(q3,6)=(q3,R,R),\n",
    "\n",
    "(q3,7)=(q3,I,R),\n",
    "\n",
    "(q3,8)=(q3,T,R),\n",
    "\n",
    "(q3,9)=(q3,O,R),\n",
    "\n",
    "(q3,.)=(q2,.,L),\n",
    "\n",
    "(q4,A)=(q4,7,R),\n",
    "\n",
    "(q4,B)=(q4,B,R),\n",
    "\n",
    "(q4,C)=(q4,3,R),\n",
    "\n",
    "(q4,D)=(q4,D,R),\n",
    "\n",
    "(q4,E)=(q4,5,R),\n",
    "\n",
    "(q4,F)=(q4,F,R),\n",
    "\n",
    "(q4,G)=(q4,8,R),\n",
    "\n",
    "(q4,H)=(q4,H,R),\n",
    "\n",
    "(q4,I)=(q4,4,R),\n",
    "\n",
    "(q4,J)=(q4,J,R),\n",
    "\n",
    "(q4,K)=(q4,K,R),\n",
    "\n",
    "(q4,L)=(q4,6,R),\n",
    "\n",
    "(q4,M)=(q4,0,R),\n",
    "\n",
    "(q4,N)=(q4,N,R),\n",
    "\n",
    "(q4,O)=(q4,9,R),\n",
    "\n",
    "(q4,P)=(q4,P,R),\n",
    "\n",
    "(q4,Q)=(q4,Q,R),\n",
    "\n",
    "(q4,R)=(q4,2,R),\n",
    "\n",
    "(q4,S)=(q4,S,R),\n",
    "\n",
    "(q4,T)=(q4,T,R),\n",
    "\n",
    "(q4,U)=(q4,1,R),\n",
    "\n",
    "(q4,V)=(q4,V,R),\n",
    "\n",
    "(q4,W)=(q4,W,R),\n",
    "\n",
    "(q4,X)=(q4,X,R),\n",
    "\n",
    "(q4,Y)=(q4,Y,R),\n",
    "\n",
    "(q4,Z)=(q4,Z,R),\n",
    "\n",
    "(q4, )=(q4,_,R),\n",
    "\n",
    "(q4,_)=(q1, ,R),\n",
    "\n",
    "(q4,0)=(q4,M,R),\n",
    "\n",
    "(q4,1)=(q4,U,R),\n",
    "\n",
    "(q4,2)=(q4,R,R),\n",
    "\n",
    "(q4,3)=(q4,C,R),\n",
    "\n",
    "(q4,4)=(q4,I,R),\n",
    "\n",
    "(q4,5)=(q4,E,R),\n",
    "\n",
    "(q4,6)=(q4,L,R),\n",
    "\n",
    "(q4,7)=(q4,A,R),\n",
    "\n",
    "(q4,8)=(q4,G,R),\n",
    "\n",
    "(q4,9)=(q4,O,R),\n",
    "\n",
    "(q4,.)=(q2,.,L)\n",
    "\n",
    "}\n",
    "\n"
   ]
  },
  {
   "cell_type": "markdown",
   "metadata": {},
   "source": [
    "<h2> DIAGRAMA"
   ]
  },
  {
   "cell_type": "markdown",
   "metadata": {},
   "source": [
    "<img src=\"files/MT.PNG\" />"
   ]
  },
  {
   "cell_type": "markdown",
   "metadata": {},
   "source": [
    "<h2> CÓDIGO"
   ]
  },
  {
   "cell_type": "code",
   "execution_count": 1,
   "metadata": {
    "collapsed": false
   },
   "outputs": [],
   "source": [
    "from automata.tm.dtm import DTM\n",
    "d = DTM(\n",
    "    states={'q0', 'q1', 'q2','q3','q4'},\n",
    "    input_symbols={'A', 'B', 'C', 'D', 'E', 'F', 'G', 'H', 'I','J','K','L','M','N','O','P','Q','R','S','T',\n",
    "                   'U','V','W','X','Y','Z','0','1','2','3','4','5','6','7','8','9','*',' ','-','+'},\n",
    "    tape_symbols={'A', 'B', 'C', 'D', 'E', 'F', 'G', 'H', 'I','J','K','L','M','N','O','P','Q','R','S','T','U',\n",
    "                  'V','W','X','Y','Z','0',' ','-','+','0','1','2','3','4','5','6','7','8','9','*','_','.'},\n",
    "    transitions={\n",
    "        'q0':{\n",
    "            '+': ('q1', '.','R'),\n",
    "            '-': ('q3', '.','R'),\n",
    "            '*': ('q4', '.','R')\n",
    "        },\n",
    "        'q1': {\n",
    "            'A': ('q1', 'I', 'R'),\n",
    "            'B': ('q1', 'B', 'R'),\n",
    "            'C': ('q1', 'P', 'R'),\n",
    "            'D': ('q1', 'D', 'R'),\n",
    "            'E': ('q1', 'O', 'R'),\n",
    "            'F': ('q1', 'F', 'R'),\n",
    "            'G': ('q1', 'G', 'R'),\n",
    "            'H': ('q1', 'H', 'R'),\n",
    "            'I': ('q1', 'A', 'R'),\n",
    "            'J': ('q1', 'J', 'R'),\n",
    "            'K': ('q1', 'K', 'R'),\n",
    "            'L': ('q1', 'N', 'R'),\n",
    "            'M': ('q1', 'M', 'R'),\n",
    "            'N': ('q1', 'L', 'R'),\n",
    "            'O': ('q1', 'E', 'R'),\n",
    "            'P': ('q1', 'C', 'R'),\n",
    "            'Q': ('q1', 'Q', 'R'),\n",
    "            'R': ('q1', 'T', 'R'),\n",
    "            'S': ('q1', 'S', 'R'),\n",
    "            'T': ('q1', 'R', 'R'),\n",
    "            'U': ('q1', 'U', 'R'),\n",
    "            'V': ('q1', 'V', 'R'),\n",
    "            'W': ('q1', 'W', 'R'),\n",
    "            'X': ('q1', 'X', 'R'),\n",
    "            'Y': ('q1', 'Y', 'R'),\n",
    "            'Z': ('q1', 'Z', 'R'),\n",
    "            ' ': ('q1', '_', 'R'),\n",
    "            '_': ('q1', ' ', 'R'),\n",
    "            '0': ('q1', '0', 'R'),\n",
    "            '1': ('q1', '1', 'R'),\n",
    "            '2': ('q1', '2', 'R'),\n",
    "            '3': ('q1', '3', 'R'),\n",
    "            '4': ('q1', '4', 'R'),\n",
    "            '5': ('q1', '5', 'R'),\n",
    "            '6': ('q1', '6', 'R'),\n",
    "            '7': ('q1', '7', 'R'),\n",
    "            '8': ('q1', '8', 'R'),\n",
    "            '9': ('q1', '9', 'R'),\n",
    "            '.': ('q2', '.', 'L')\n",
    "        },\n",
    "        'q3': {\n",
    "            'A': ('q3', '1', 'R'),\n",
    "            'B': ('q3', 'B', 'R'),\n",
    "            'C': ('q3', 'C', 'R'),\n",
    "            'D': ('q3', 'D', 'R'),\n",
    "            'E': ('q3', '5', 'R'),\n",
    "            'F': ('q3', 'F', 'R'),\n",
    "            'G': ('q3', '2', 'R'),\n",
    "            'H': ('q3', 'H', 'R'),\n",
    "            'I': ('q3', '7', 'R'),\n",
    "            'J': ('q3', '4', 'R'),\n",
    "            'K': ('q3', 'K', 'R'),\n",
    "            'L': ('q3', 'L', 'R'),\n",
    "            'M': ('q3', 'M', 'R'),\n",
    "            'N': ('q3', 'N', 'R'),\n",
    "            'O': ('q3', '9', 'R'),\n",
    "            'P': ('q3', 'P', 'R'),\n",
    "            'Q': ('q3', 'Q', 'R'),\n",
    "            'R': ('q3', '6', 'R'),\n",
    "            'S': ('q3', 'S', 'R'),\n",
    "            'T': ('q3', '8', 'R'),\n",
    "            'U': ('q3', '3', 'R'),\n",
    "            'V': ('q3', 'V', 'R'),\n",
    "            'W': ('q3', 'W', 'R'),\n",
    "            'X': ('q3', 'X', 'R'),\n",
    "            'Y': ('q3', 'Y', 'R'),\n",
    "            'Z': ('q3', 'Z', 'R'),\n",
    "            ' ': ('q3', '_', 'R'),\n",
    "            '_': ('q1', ' ', 'R'),\n",
    "            '0': ('q3', '0', 'R'),\n",
    "            '1': ('q3', 'A', 'R'),\n",
    "            '2': ('q3', 'G', 'R'),\n",
    "            '3': ('q3', 'U', 'R'),\n",
    "            '4': ('q3', 'J', 'R'),\n",
    "            '5': ('q3', 'E', 'R'),\n",
    "            '6': ('q3', 'R', 'R'),\n",
    "            '7': ('q3', 'I', 'R'),\n",
    "            '8': ('q3', 'T', 'R'),\n",
    "            '9': ('q3', 'O', 'R'),\n",
    "            '.': ('q2', '.', 'L')\n",
    "            \n",
    "        },\n",
    "        'q4':{\n",
    "            'A': ('q4', '7', 'R'),\n",
    "            'B': ('q4', 'B', 'R'),\n",
    "            'C': ('q4', '3', 'R'),\n",
    "            'D': ('q4', 'D', 'R'),\n",
    "            'E': ('q4', '5', 'R'),\n",
    "            'F': ('q4', 'F', 'R'),\n",
    "            'G': ('q4', '8', 'R'),\n",
    "            'H': ('q4', 'H', 'R'),\n",
    "            'I': ('q4', '4', 'R'),\n",
    "            'J': ('q4', 'J', 'R'),\n",
    "            'K': ('q4', 'K', 'R'),\n",
    "            'L': ('q4', '6', 'R'),\n",
    "            'M': ('q4', '0', 'R'),\n",
    "            'N': ('q4', 'N', 'R'),\n",
    "            'O': ('q4', '9', 'R'),\n",
    "            'P': ('q4', 'P', 'R'),\n",
    "            'Q': ('q4', 'Q', 'R'),\n",
    "            'R': ('q4', '2', 'R'),\n",
    "            'S': ('q4', 'S', 'R'),\n",
    "            'T': ('q4', 'T', 'R'),\n",
    "            'U': ('q4', '1', 'R'),\n",
    "            'V': ('q4', 'V', 'R'),\n",
    "            'W': ('q4', 'W', 'R'),\n",
    "            'X': ('q4', 'X', 'R'),\n",
    "            'Y': ('q4', 'Y', 'R'),\n",
    "            'Z': ('q4', 'Z', 'R'),\n",
    "            ' ': ('q4', '_', 'R'),\n",
    "            '_': ('q1', ' ', 'R'),\n",
    "            '0': ('q4', 'M', 'R'),\n",
    "            '1': ('q4', 'U', 'R'),\n",
    "            '2': ('q4', 'R', 'R'),\n",
    "            '3': ('q4', 'C', 'R'),\n",
    "            '4': ('q4', 'I', 'R'),\n",
    "            '5': ('q4', 'E', 'R'),\n",
    "            '6': ('q4', 'L', 'R'),\n",
    "            '7': ('q4', 'A', 'R'),\n",
    "            '8': ('q4', 'G', 'R'),\n",
    "            '9': ('q4', 'O', 'R'),\n",
    "            '.': ('q2', '.', 'L')\n",
    "        }\n",
    "    },\n",
    "    initial_state='q0',\n",
    "    blank_symbol='.',\n",
    "    final_states={'q2'}\n",
    ")"
   ]
  },
  {
   "cell_type": "code",
   "execution_count": 4,
   "metadata": {
    "collapsed": false
   },
   "outputs": [
    {
     "name": "stdout",
     "output_type": "stream",
     "text": [
      "Por favor digite el mensaje que desea encriptar: amistad\n",
      "Digite \"s\" si desea encriptar o \"n\" si no desea encriptar: s\n",
      "1. Digite + si quiere usar Cenit-Polar. \n",
      "2. Digite - si quiere usar Clave Agujerito. \n",
      "3. Digite * si quiere usar clave Murcielago.\n",
      "*\n",
      "704ST7D\n",
      "Digite \"s\" si desea agregar otra capa de encriptado al mensaje o \"n\" si no desea encriptar: s\n",
      "1. Digite + si quiere usar Cenit-Polar. \n",
      "2. Digite - si quiere usar Clave Agujerito. \n",
      "3. Digite * si quiere usar clave Murcielago.\n",
      "*\n",
      "AMISTAD\n",
      "Digite \"s\" si desea agregar otra capa de encriptado al mensaje o \"n\" si no desea encriptar: n\n"
     ]
    }
   ],
   "source": [
    "message = list(input('Por favor digite el mensaje que desea encriptar: '))\n",
    "\n",
    "for i in range(len(message)): \n",
    "    if message[i].isalpha():\n",
    "        message[i] = message[i].upper()\n",
    "message = ''.join(message)\n",
    "\n",
    "answ = input('Digite \"s\" si desea encriptar o \"n\" si no desea encriptar: ')\n",
    "while answ == 's':\n",
    "    print('1. Digite + si quiere usar Cenit-Polar. \\n2. Digite - si quiere usar Clave Agujerito. \\n3. Digite * si quiere usar clave Murcielago.')\n",
    "    opt = input()\n",
    "    if opt == '+':\n",
    "        message = d.validate_input(opt + message)\n",
    "    elif opt == '-':\n",
    "        message = d.validate_input(opt + message)\n",
    "    elif opt == '*':\n",
    "        message = d.validate_input(opt + message)\n",
    "    else:\n",
    "        print('Opcion no valida')\n",
    "    message = str(message[1])\n",
    "    message = message[9:-3]\n",
    "    print(message)\n",
    "    answ = input('Digite \"s\" si desea agregar otra capa de encriptado al mensaje o \"n\" si no desea encriptar: ')"
   ]
  },
  {
   "cell_type": "markdown",
   "metadata": {},
   "source": [
    "<h3>CENIT POLAR\n",
    "<table>\n",
    "<tr>\n",
    "<td width=\"30\">$A$</td><td width=\"30\">$M$</td><td width='30'>$I$</td><td width='30'>$S$</td><td width='30'>$T$</td><td width='30'>$A$</td><td width='30'>$D$</td>\n",
    "</tr>\n",
    "<td>$I$</td><td>$M$</td><td>$A$</td><td>$S$</td><td>$R$</td><td>$I$</td><td>$D$</td>\n",
    "</tr>\n",
    "</table>\n",
    "\n",
    "<h3>AGUJERITO\n",
    "<table>\n",
    "<tr>\n",
    "<td width=\"30\">$A$</td><td width=\"30\">$M$</td><td width='30'>$I$</td><td width='30'>$S$</td><td width='30'>$T$</td><td width='30'>$A$</td><td width='30'>$D$</td>\n",
    "</tr>\n",
    "<td>$I$</td><td>$M$</td><td>$7$</td><td>$S$</td><td>$8$</td><td>$1$</td><td>$D$</td>\n",
    "</tr>\n",
    "</table>\n",
    "\n",
    "<h3>MURCIELAGO\n",
    "<table>\n",
    "<tr>\n",
    "<td width=\"30\">$A$</td><td width=\"30\">$M$</td><td width='30'>$I$</td><td width='30'>$S$</td><td width='30'>$T$</td><td width='30'>$A$</td><td width='30'>$D$</td>\n",
    "</tr>\n",
    "<td>$7$</td><td>$0$</td><td>$4$</td><td>$S$</td><td>$T$</td><td>$7$</td><td>$D$</td>\n",
    "</tr>\n",
    "</table>"
   ]
  },
  {
   "cell_type": "markdown",
   "metadata": {},
   "source": [
    "<div style=\"height:100px;\"></div>"
   ]
  },
  {
   "cell_type": "markdown",
   "metadata": {},
   "source": [
    "<div style=\"height:100px;\"></div>"
   ]
  },
  {
   "cell_type": "code",
   "execution_count": null,
   "metadata": {
    "collapsed": false
   },
   "outputs": [],
   "source": [
    "!./empaquetar.sh $codigo"
   ]
  }
 ],
 "metadata": {
  "kernelspec": {
   "display_name": "Python 3",
   "language": "python",
   "name": "python3"
  },
  "language_info": {
   "codemirror_mode": {
    "name": "ipython",
    "version": 3
   },
   "file_extension": ".py",
   "mimetype": "text/x-python",
   "name": "python",
   "nbconvert_exporter": "python",
   "pygments_lexer": "ipython3",
   "version": "3.6.2"
  }
 },
 "nbformat": 4,
 "nbformat_minor": 2
}
